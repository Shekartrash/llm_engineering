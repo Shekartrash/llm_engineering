{
 "cells": [
  {
   "cell_type": "markdown",
   "id": "0df0d850-49eb-4a0b-a27a-146969db710d",
   "metadata": {},
   "source": [
    "# The Price is Right\n",
    "\n",
    "Today we'll build another piece of the puzzle: a ScanningAgent that looks for promising deals by subscribing to RSS feeds."
   ]
  },
  {
   "cell_type": "code",
   "execution_count": 16,
   "id": "d3763a79-8a5a-4300-8de4-93e85475af10",
   "metadata": {},
   "outputs": [],
   "source": [
    "# imports\n",
    "\n",
    "import os\n",
    "import json\n",
    "from dotenv import load_dotenv\n",
    "from openai import OpenAI\n",
    "from agents.deals import ScrapedDeal, DealSelection"
   ]
  },
  {
   "cell_type": "code",
   "execution_count": 17,
   "id": "c6469e32-16c3-4443-9475-ade710ef6933",
   "metadata": {},
   "outputs": [],
   "source": [
    "# Initialize and constants\n",
    "\n",
    "load_dotenv()\n",
    "os.environ['OPENAI_API_KEY'] = os.getenv('OPENAI_API_KEY', 'your-key-if-not-using-env')\n",
    "MODEL = 'gpt-4o-mini'\n",
    "openai = OpenAI()"
   ]
  },
  {
   "cell_type": "code",
   "execution_count": 18,
   "id": "afece9db-8cd4-46be-ac57-0b472e84da7d",
   "metadata": {},
   "outputs": [
    {
     "name": "stderr",
     "output_type": "stream",
     "text": [
      "100%|██████████| 5/5 [05:44<00:00, 68.87s/it]\n"
     ]
    }
   ],
   "source": [
    "deals = ScrapedDeal.fetch(show_progress=True)"
   ]
  },
  {
   "cell_type": "code",
   "execution_count": 19,
   "id": "8cd15c4d-eb44-4601-bf0c-f945c1d8e3ec",
   "metadata": {},
   "outputs": [
    {
     "data": {
      "text/plain": [
       "50"
      ]
     },
     "execution_count": 19,
     "metadata": {},
     "output_type": "execute_result"
    }
   ],
   "source": [
    "len(deals)"
   ]
  },
  {
   "cell_type": "code",
   "execution_count": 20,
   "id": "4259f30a-6455-49ed-8863-2f9ddd4776cb",
   "metadata": {},
   "outputs": [
    {
     "data": {
      "text/plain": [
       "\"Title: Vevor Tufting Gun for $73 + free shipping\\nDetails: It's the best price we could find by $40. Create a free account to get this price and to have this item shipped for free, although if you live in a particular rural area, you may have to pay for shipping. Buy Now at VEVOR\\nFeatures: 70W motor can reach 7-27 stiches per second rotating adjustable handle Model: GR-1\\nURL: https://www.dealnews.com/products/Vevor/Vevor-Tufting-Gun/487014.html?iref=rss-c196\""
      ]
     },
     "execution_count": 20,
     "metadata": {},
     "output_type": "execute_result"
    }
   ],
   "source": [
    "deals[44].describe()"
   ]
  },
  {
   "cell_type": "code",
   "execution_count": 21,
   "id": "8100e5ac-38f5-40c1-a712-08ae12c85038",
   "metadata": {},
   "outputs": [],
   "source": [
    "system_prompt = \"\"\"You identify and summarize the 5 most detailed deals from a list, by selecting deals that have the most detailed, high quality description and the most clear price.\n",
    "Respond strictly in JSON with no explanation, using this format. You should provide the price as a number derived from the description. If the price of a deal isn't clear, do not include that deal in your response.\n",
    "Most important is that you respond with the 5 deals that have the most detailed product description with price. It's not important to mention the terms of the deal; most important is a thorough description of the product.\n",
    "Be careful with products that are described as \"$XXX off\" or \"reduced by $XXX\" - this isn't the actual price of the product. Only respond with products when you are highly confident about the price. \n",
    "\n",
    "{\"deals\": [\n",
    "    {\n",
    "        \"product_description\": \"Your clearly expressed summary of the product in 4-5 sentences. Details of the item are much more important than why it's a good deal. Avoid mentioning discounts and coupons; focus on the item itself. There should be a paragpraph of text for each item you choose.\",\n",
    "        \"price\": 99.99,\n",
    "        \"url\": \"the url as provided\"\n",
    "    },\n",
    "    ...\n",
    "]}\"\"\""
   ]
  },
  {
   "cell_type": "code",
   "execution_count": 22,
   "id": "f4bca170-af71-40c9-9597-1d72980c74d8",
   "metadata": {},
   "outputs": [],
   "source": [
    "user_prompt = \"\"\"Respond with the most promising 5 deals from this list, selecting those which have the most detailed, high quality product description and a clear price.\n",
    "Respond strictly in JSON, and only JSON. You should rephrase the description to be a summary of the product itself, not the terms of the deal.\n",
    "Remember to respond with a paragraph of text in the product_description field for each of the 5 items that you select.\n",
    "Be careful with products that are described as \"$XXX off\" or \"reduced by $XXX\" - this isn't the actual price of the product. Only respond with products when you are highly confident about the price. \n",
    "\n",
    "Deals:\n",
    "\n",
    "\"\"\"\n",
    "user_prompt += '\\n\\n'.join([deal.describe() for deal in deals])"
   ]
  },
  {
   "cell_type": "code",
   "execution_count": 23,
   "id": "020947a6-561b-417b-98a0-a085e31d2ce3",
   "metadata": {},
   "outputs": [
    {
     "name": "stdout",
     "output_type": "stream",
     "text": [
      "Respond with the most promising 5 deals from this list, selecting those which have the most detailed, high quality product description and a clear price.\n",
      "Respond strictly in JSON, and only JSON. You should rephrase the description to be a summary of the product itself, not the terms of the deal.\n",
      "Remember to respond with a paragraph of text in the product_description field for each of the 5 items that you select.\n",
      "Be careful with products that are described as \"$XXX off\" or \"reduced by $XXX\" - this isn't the actual price of the product. Only respond with products when you are highly confident about the price. \n",
      "\n",
      "Deals:\n",
      "\n",
      "Title: Chargeworx Dual USB Slim 10,000mAh Power Bank for $10 + free shipping\n",
      "Details: It's $30 off and the best price we could find. Buy Now at MorningSave\n",
      "Features: multiple USB ports for charging up to two devices at a time\n",
      "URL: https://www.dealnews.com/Chargeworx-Dual-USB-Slim-10-000-m-Ah-Power-Bank-for-10-free-shipping/21717611.html?iref=rss-c142\n",
      "\n",
      "Title: Samsung Presidents' Day TV and TV Bundle Deals: Up to $2,018 off + up to $540 trade-in credit + free shipping\n",
      "Details: Save on TVs and soundbar + TV bundle deals. Pictured is the Samsung QE1D QN75QE1DAFXZA 75\" QLED 4K Smart TV for $980 ($820 off). Shop Now at Samsung\n",
      "Features: \n",
      "URL: https://www.dealnews.com/Samsung-Presidents-Day-TV-and-TV-Bundle-Deals-Up-to-2-018-off-up-to-540-trade-in-credit-free-shipping/21717542.html?iref=rss-c142\n",
      "\n",
      "Title: Snorecircle Snore Earset E4 Anti-Snoring Device for $69 + free shipping\n",
      "Details: Apply coupon code \"WWXSQC8QA21X\" for a savings of $30. Buy Now at snorecircle.com\n",
      "Features: Vibration intervention Two nights' use on a single charge Adjustable vibration intensity Daily sleep reports Model: YA1323\n",
      "URL: https://www.dealnews.com/products/Snorecircle-Snore-Earset-E4-Anti-Snoring-Device/241886.html?iref=rss-c142\n",
      "\n",
      "Title: Snorecircle YA50G VVFLY APAP Device for $299 + free shipping\n",
      "Details: Apply coupon code \"EG9T33G46Z40\" for a savings of $200. Buy Now at snorecircle.c\n"
     ]
    }
   ],
   "source": [
    "print(user_prompt[:2000])"
   ]
  },
  {
   "cell_type": "code",
   "execution_count": 24,
   "id": "7de46f74-868c-4127-8a68-cf2da7d600bb",
   "metadata": {},
   "outputs": [],
   "source": [
    "def get_recommendations():\n",
    "    completion = openai.beta.chat.completions.parse(\n",
    "        model=\"gpt-4o-mini\",\n",
    "        messages=[\n",
    "            {\"role\": \"system\", \"content\": system_prompt},\n",
    "            {\"role\": \"user\", \"content\": user_prompt}\n",
    "      ],\n",
    "        response_format=DealSelection\n",
    "    )\n",
    "    result = completion.choices[0].message.parsed\n",
    "    return result"
   ]
  },
  {
   "cell_type": "code",
   "execution_count": 25,
   "id": "4c06270d-8c17-4d5a-9cfe-b6cefe788d5e",
   "metadata": {},
   "outputs": [],
   "source": [
    "result = get_recommendations()"
   ]
  },
  {
   "cell_type": "code",
   "execution_count": 26,
   "id": "84e62845-3338-441a-8161-c70097af4773",
   "metadata": {},
   "outputs": [
    {
     "data": {
      "text/plain": [
       "5"
      ]
     },
     "execution_count": 26,
     "metadata": {},
     "output_type": "execute_result"
    }
   ],
   "source": [
    "len(result.deals)"
   ]
  },
  {
   "cell_type": "code",
   "execution_count": null,
   "id": "e5554a0a-ae40-4684-ad3e-faa3d22e030c",
   "metadata": {},
   "outputs": [
    {
     "data": {
      "text/plain": [
       "Deal(product_description='The Samsung QE1D QN75QE1DAFXZA 75\" QLED 4K Smart TV provides stunning image quality with its 4K resolution and advanced QLED technology, allowing for vibrant colors and deep contrasts. It features smart capabilities for accessing your favorite apps and services seamlessly. This premium display is complemented by a sleek design that enhances the aesthetics of any room.', price=980.0, url='https://www.dealnews.com/Samsung-Presidents-Day-TV-and-TV-Bundle-Deals-Up-to-2-018-off-up-to-540-trade-in-credit-free-shipping/21717542.html?iref=rss-c142')"
      ]
     },
     "execution_count": 27,
     "metadata": {},
     "output_type": "execute_result"
    }
   ],
   "source": [
    "result.deals[1]"
   ]
  },
  {
   "cell_type": "code",
   "execution_count": 28,
   "id": "8bdc57fb-7497-47af-a643-6ba5a21cc17e",
   "metadata": {},
   "outputs": [],
   "source": [
    "from agents.scanner_agent import ScannerAgent"
   ]
  },
  {
   "cell_type": "code",
   "execution_count": 29,
   "id": "132278bc-217a-43a6-b6c4-724140c6a225",
   "metadata": {},
   "outputs": [],
   "source": [
    "agent = ScannerAgent()\n",
    "result = agent.scan()"
   ]
  },
  {
   "cell_type": "code",
   "execution_count": 30,
   "id": "2e1d013a-c930-4dad-901b-41433379e14b",
   "metadata": {},
   "outputs": [
    {
     "data": {
      "text/plain": [
       "DealSelection(deals=[Deal(product_description=\"The Snorecircle Snore Earset E4 is an innovative anti-snoring device designed to help users achieve a more restful night's sleep. This earset utilizes vibration intervention technology that detects snoring and gently vibrates to prompt the user to adjust their sleeping position. It offers adjustable vibration intensity to suit individual preferences and includes features to provide daily sleep reports, allowing users to track their progress over time. With up to two nights of use on a single charge, the Snorecircle Earset is both convenient and effective for snoring relief.\", price=69.0, url='https://www.dealnews.com/products/Snorecircle-Snore-Earset-E4-Anti-Snoring-Device/241886.html?iref=rss-c142'), Deal(product_description='The iBuyPower Trace Mesh Desktop is a high-performance gaming rig powered by an AMD Ryzen 7 processor, specifically the 5700, which runs at 3.7GHz with 8 cores. It features the NVIDIA GeForce RTX 4060 GPU, ensuring top-notch graphics for gaming and creative tasks. Equipped with 16GB of RAM and a spacious 1TB SSD, this desktop provides fast performance and ample storage for games and applications alike. It runs on Windows 11 Home and comes housed in a sleek mesh design that promotes airflow and cooling during intense gaming sessions.', price=900.0, url='https://www.dealnews.com/products/iBuy-Power/iBuy-Power-Trace-Mesh-AMD-Ryzen-7-Desktop-w-NVIDIA-Ge-Force-RTX-4060/477147.html?iref=rss-c39'), Deal(product_description='Experience the next level of gaming with the Alienware m18 R2 Gaming Laptop, featuring the powerful 14th-generation Intel Core i9-14900HX CPU and a stunning 18\" G-Sync display with a resolution of 2560x1600. This laptop is equipped with an NVIDIA GeForce RTX 4090 GPU, making it an ideal choice for playing the latest titles with high settings. With 32GB of RAM and a massive 2TB RAID0 NVMe M.2 SSD, this machine not only delivers incredible performance but also offers ample storage for all your gaming needs. Perfect for serious gamers seeking top-tier hardware.', price=3000.0, url='https://www.dealnews.com/Alienware-m18-R2-14-th-Gen-i9-18-165-Hz-Gaming-Laptop-w-RTX-4090-32-GB-RAM-for-3-000-free-shipping/21717475.html?iref=rss-c39'), Deal(product_description='The Vevor 12V 4-Gallon Backpack Sprayer is an essential tool for gardeners and landscapers, ideal for applying pesticides or fertilizer. This portable sprayer comes with eight interchangeable nozzles and two wands, allowing for versatile and effective spraying methods. It operates on a reliable 12V 7.2Ah battery, producing an adjustable working pressure of up to 94 PSI. Designed for comfort and ease of use, it also features adjustable straps for carrying, making it a practical choice for outdoor tasks.', price=100.0, url='https://www.dealnews.com/Vevor-12-V-4-Gallon-Backpack-Sprayer-w-Cart-for-100-free-shipping/21717583.html?iref=rss-c196'), Deal(product_description=\"The Certified Refurb iRobot Braava Jet M6 is an advanced WiFi-enabled robot mop that adapts to your home's layout for efficient cleaning. It utilizes smart mapping technology to recognize and respond to different areas, providing targeted cleaning to high-traffic zones. It also supports voice control for hands-free operation and syncs with Amazon Alexa and Google Assistant. This robot mop has a powerful cleaning capability to remove dirt and stains, making it a must-have for maintaining a clean home effortlessly.\", price=120.0, url='https://www.dealnews.com/products/iRobot/iRobot-Braava-Jet-M6-Ultimate-Wi-Fi-Robot-Mop/168922.html?iref=rss-f1912')])"
      ]
     },
     "execution_count": 30,
     "metadata": {},
     "output_type": "execute_result"
    }
   ],
   "source": [
    "result"
   ]
  },
  {
   "cell_type": "code",
   "execution_count": null,
   "id": "5ee2e837-1f1d-42d4-8bc4-51cccc343006",
   "metadata": {},
   "outputs": [],
   "source": []
  }
 ],
 "metadata": {
  "kernelspec": {
   "display_name": "Python 3 (ipykernel)",
   "language": "python",
   "name": "python3"
  },
  "language_info": {
   "codemirror_mode": {
    "name": "ipython",
    "version": 3
   },
   "file_extension": ".py",
   "mimetype": "text/x-python",
   "name": "python",
   "nbconvert_exporter": "python",
   "pygments_lexer": "ipython3",
   "version": "3.11.11"
  }
 },
 "nbformat": 4,
 "nbformat_minor": 5
}
